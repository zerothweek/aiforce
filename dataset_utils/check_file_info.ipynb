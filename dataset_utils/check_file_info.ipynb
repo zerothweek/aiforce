{
 "cells": [
  {
   "cell_type": "code",
   "execution_count": 6,
   "metadata": {},
   "outputs": [],
   "source": [
    "import os\n",
    "import json\n",
    "\n",
    "def generate_file_info_with_annotations(data_dir, json_file, version=1):\n",
    "    # Load the data from the JSON file\n",
    "    with open(json_file, 'r') as f:\n",
    "        data_dict = json.load(f)\n",
    "\n",
    "    # Define paths for images and labels\n",
    "    image_dir = os.path.join(data_dir, 'images')\n",
    "    label_dir = os.path.join(data_dir, 'labels')\n",
    "\n",
    "    # Create text files to store the information\n",
    "    file_count_txt = os.path.join(data_dir, f\"{data_dir}_file_count_v{version}.txt\")\n",
    "    file_list_txt = os.path.join(data_dir, f\"{data_dir}_file_list_v{version}.txt\")\n",
    "    unmatched_files_txt = os.path.join(data_dir, f\"{data_dir}_unmatched_files_v{version}.txt\")\n",
    "\n",
    "    with open(file_count_txt, 'w') as count_file, open(file_list_txt, 'w') as list_file, open(unmatched_files_txt, 'w') as unmatched_file:\n",
    "        # Set of valid prefixes (keys from the JSON dictionary)\n",
    "        valid_prefixes = set(data_dict.keys())\n",
    "\n",
    "        # Collect all image and label files\n",
    "        all_image_files = [f for f in os.listdir(image_dir) if f.endswith('.jpg')]\n",
    "        all_label_files = [f.replace('.jpg', '.txt') for f in all_image_files]\n",
    "\n",
    "        matched_files = set()\n",
    "\n",
    "        # Loop through the dictionary and process each prefix\n",
    "        for case_type, case_info in data_dict.items():\n",
    "            # Get all image files for the current prefix\n",
    "            image_files = [f for f in all_image_files if f.startswith(case_type)]\n",
    "            label_files = [f.replace('.jpg', '.txt') for f in image_files]\n",
    "\n",
    "            # Ensure each image has a corresponding label\n",
    "            valid_files = [(img, lbl) for img, lbl in zip(image_files, label_files)\n",
    "                           if os.path.exists(os.path.join(label_dir, lbl))]\n",
    "\n",
    "            # Sort files by name (ascending order)\n",
    "            valid_files.sort()\n",
    "\n",
    "            # Mark these files as matched\n",
    "            matched_files.update(img for img, _ in valid_files)\n",
    "\n",
    "            # Get ratio and description from the current entry\n",
    "            ratio = case_info.get(\"ratio\", \"N/A\")\n",
    "            description = case_info.get(\"description\", \"No description available\")\n",
    "\n",
    "            # Count the files and write to the count file\n",
    "            count_file.write(f\"'{case_type}'/'{description}': {len(valid_files)} files\\n\")\n",
    "\n",
    "            # Write the actual filenames and annotations to the list file\n",
    "            list_file.write(f\"# {description}\\n\")\n",
    "            for img, lbl in valid_files:\n",
    "                list_file.write(f\"{img}, {lbl}\\n\")\n",
    "\n",
    "        # Identify unmatched files\n",
    "        unmatched_images = set(all_image_files) - matched_files\n",
    "        unmatched_labels = [img.replace('.jpg', '.txt') for img in unmatched_images]\n",
    "\n",
    "        # Write unmatched files to a separate file\n",
    "        unmatched_file.write(\"Unmatched files (those that don't match the keys):\\n\")\n",
    "        for img, lbl in zip(unmatched_images, unmatched_labels):\n",
    "            unmatched_file.write(f\"{img}, {lbl}\\n\")\n",
    "\n",
    "    print(f\"Processing complete. Check '{file_count_txt}', '{file_list_txt}', and '{unmatched_files_txt}' for details.\")"
   ]
  },
  {
   "cell_type": "code",
   "execution_count": 12,
   "metadata": {},
   "outputs": [
    {
     "name": "stdout",
     "output_type": "stream",
     "text": [
      "Processing complete. Check '/Users/jjookim/Projects/AIForce/datasets/all_data/train_v1_file_count_v1.txt', '/Users/jjookim/Projects/AIForce/datasets/all_data/train_v1_file_list_v1.txt', and '/Users/jjookim/Projects/AIForce/datasets/all_data/train_v1_unmatched_files_v1.txt' for details.\n"
     ]
    }
   ],
   "source": [
    "data_dir = '/Users/jjookim/Projects/AIForce/datasets/all_data/train_v1'\n",
    "json_file = '/Users/jjookim/Projects/AIForce/datasets/jsons/all_data.json'  # Your single JSON file\n",
    "\n",
    "generate_file_info_with_annotations(data_dir, json_file, version=1)"
   ]
  },
  {
   "cell_type": "code",
   "execution_count": null,
   "metadata": {},
   "outputs": [],
   "source": []
  }
 ],
 "metadata": {
  "kernelspec": {
   "display_name": "maicon_study",
   "language": "python",
   "name": "maicon_study"
  },
  "language_info": {
   "codemirror_mode": {
    "name": "ipython",
    "version": 3
   },
   "file_extension": ".py",
   "mimetype": "text/x-python",
   "name": "python",
   "nbconvert_exporter": "python",
   "pygments_lexer": "ipython3",
   "version": "3.11.4"
  }
 },
 "nbformat": 4,
 "nbformat_minor": 2
}
